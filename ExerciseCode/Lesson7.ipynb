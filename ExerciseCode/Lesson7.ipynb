{
 "cells": [
  {
   "cell_type": "markdown",
   "metadata": {},
   "source": [
    "# 类和对象\n",
    "\n",
    "> 以对象为核心，而对象是程序运行时刻的基本成分"
   ]
  },
  {
   "cell_type": "markdown",
   "metadata": {},
   "source": [
    "# 类"
   ]
  },
  {
   "cell_type": "code",
   "execution_count": null,
   "metadata": {},
   "outputs": [],
   "source": [
    "class Person:\n",
    "    \"\"\"\n",
    "    person defined\n",
    "    \"\"\"\n",
    "    def setname(self, name):\n",
    "        \"\"\"\n",
    "        set person name\n",
    "        \"\"\"\n",
    "        self.name = name\n",
    "\n",
    "    def show(self):\n",
    "        \"\"\"\n",
    "        show person name\n",
    "        \"\"\"\n",
    "        print(self.name)"
   ]
  },
  {
   "cell_type": "markdown",
   "metadata": {},
   "source": [
    "## 类对象"
   ]
  },
  {
   "cell_type": "code",
   "execution_count": null,
   "metadata": {},
   "outputs": [],
   "source": [
    "# 执行时产生类对象，并赋值给class后的变量\n",
    "class A:\n",
    "    \"\"\"\n",
    "    class A here\n",
    "    \"\"\"\n",
    "    pass\n",
    "\n",
    "A"
   ]
  },
  {
   "cell_type": "code",
   "execution_count": null,
   "metadata": {},
   "outputs": [],
   "source": [
    "# 类内的赋值语句会创建类的属性\n",
    "# 类属性提供对象的状态和行为\n",
    "class B:\n",
    "    x = 10\n",
    "    \n",
    "    def getname(self):\n",
    "        print(id(self), type(self))\n",
    "    \n",
    "print(B.x)\n",
    "print(B.getname)"
   ]
  },
  {
   "cell_type": "markdown",
   "metadata": {},
   "source": [
    "## 实例对象"
   ]
  },
  {
   "cell_type": "code",
   "execution_count": null,
   "metadata": {},
   "outputs": [],
   "source": [
    "a = A()\n",
    "print(a)"
   ]
  },
  {
   "cell_type": "code",
   "execution_count": null,
   "metadata": {},
   "outputs": [],
   "source": [
    "b = B()\n",
    "print(id(b))\n",
    "b.getname()"
   ]
  },
  {
   "cell_type": "code",
   "execution_count": null,
   "metadata": {},
   "outputs": [],
   "source": [
    "dir(a)"
   ]
  },
  {
   "cell_type": "code",
   "execution_count": null,
   "metadata": {},
   "outputs": [],
   "source": [
    "print(A.__doc__)"
   ]
  },
  {
   "cell_type": "code",
   "execution_count": null,
   "metadata": {},
   "outputs": [],
   "source": [
    "c = B()"
   ]
  },
  {
   "cell_type": "code",
   "execution_count": null,
   "metadata": {},
   "outputs": [],
   "source": [
    "print(c)"
   ]
  },
  {
   "cell_type": "markdown",
   "metadata": {},
   "source": [
    "## 运算符重载 - 构造函数"
   ]
  },
  {
   "cell_type": "code",
   "execution_count": null,
   "metadata": {},
   "outputs": [],
   "source": [
    "class Person:\n",
    "    \"\"\"\n",
    "    person defined\n",
    "    __new__\n",
    "    __init__\n",
    "    \"\"\"\n",
    "        \n",
    "    def __init__(self, name, age):\n",
    "        self.name = name\n",
    "        self.age = age\n",
    "        print('constructor is called:',self.name)\n",
    "    \n",
    "    def setname(self, name):\n",
    "        \"\"\"\n",
    "        set person name\n",
    "        \"\"\"\n",
    "        self.name = name\n",
    "\n",
    "    def show(self):\n",
    "        \"\"\"\n",
    "        show person name\n",
    "        \"\"\"\n",
    "        print(self.name)"
   ]
  },
  {
   "cell_type": "code",
   "execution_count": null,
   "metadata": {},
   "outputs": [],
   "source": [
    "pp = Person()"
   ]
  },
  {
   "cell_type": "code",
   "execution_count": null,
   "metadata": {},
   "outputs": [],
   "source": [
    "p1 = Person(\"joe\", 20)"
   ]
  },
  {
   "cell_type": "code",
   "execution_count": null,
   "metadata": {},
   "outputs": [],
   "source": [
    "p2 = Person(\"kate\", 19)"
   ]
  },
  {
   "cell_type": "code",
   "execution_count": null,
   "metadata": {},
   "outputs": [],
   "source": [
    "p1 == p2"
   ]
  },
  {
   "cell_type": "code",
   "execution_count": null,
   "metadata": {},
   "outputs": [],
   "source": [
    "p3 = Person(age=19, name=\"jack\")"
   ]
  },
  {
   "cell_type": "markdown",
   "metadata": {},
   "source": [
    "## 运算符重载 - 析构函数"
   ]
  },
  {
   "cell_type": "code",
   "execution_count": null,
   "metadata": {},
   "outputs": [],
   "source": [
    "class Person:\n",
    "    \"\"\"\n",
    "    person defined\n",
    "    \"\"\"\n",
    "    def __del__(self):\n",
    "        print('destructor is called')\n",
    "\n",
    "    # 默认参数\n",
    "    def __init__(self, name=\"a\", age=20):\n",
    "        self.name = name\n",
    "        self.age = age\n",
    "        print('constructor is called')\n",
    "\n",
    "    def setname(self, name):\n",
    "        \"\"\"\n",
    "        set person name\n",
    "        \"\"\"\n",
    "        self.name = name\n",
    "\n",
    "    def show(self):\n",
    "        \"\"\"\n",
    "        show person name\n",
    "        \"\"\"\n",
    "        print(self.name)"
   ]
  },
  {
   "cell_type": "code",
   "execution_count": null,
   "metadata": {},
   "outputs": [],
   "source": [
    "p = Person()"
   ]
  },
  {
   "cell_type": "code",
   "execution_count": null,
   "metadata": {},
   "outputs": [],
   "source": [
    "del p"
   ]
  },
  {
   "cell_type": "code",
   "execution_count": null,
   "metadata": {},
   "outputs": [],
   "source": [
    "# 作用域\n",
    "def call_one():\n",
    "    q = Person()\n",
    "    return None\n",
    "\n",
    "call_one()"
   ]
  },
  {
   "cell_type": "code",
   "execution_count": null,
   "metadata": {},
   "outputs": [],
   "source": [
    "p = Person()\n",
    "print(p)"
   ]
  },
  {
   "cell_type": "markdown",
   "metadata": {},
   "source": [
    "## 运算符重载 str / repr"
   ]
  },
  {
   "cell_type": "code",
   "execution_count": null,
   "metadata": {},
   "outputs": [],
   "source": [
    "class Person:\n",
    "    \"\"\"\n",
    "    person defined\n",
    "    \"\"\"\n",
    "    def __str__(self):\n",
    "        return 'Person name:%s and age:%d' % (self.name, self.age)\n",
    "    \n",
    "    def __repr__(self):\n",
    "        return '%s' % self.age\n",
    "#     def __repr__(self):\n",
    "#         return '1+1'\n",
    "\n",
    "    def __del__(self):\n",
    "        print('destructor is called')\n",
    "\n",
    "    def __init__(self, name=\"a\", age=20):\n",
    "        self.name = name\n",
    "        self.age = age\n",
    "        print('constructor is called')\n",
    "\n",
    "    def setname(self, name):\n",
    "        \"\"\"\n",
    "        set person name\n",
    "        \"\"\"\n",
    "        self.name = name\n",
    "\n",
    "    def show(self):\n",
    "        \"\"\"\n",
    "        show person name\n",
    "        \"\"\"\n",
    "        print(self.name)"
   ]
  },
  {
   "cell_type": "code",
   "execution_count": null,
   "metadata": {},
   "outputs": [],
   "source": [
    "# return str\n",
    "p = Person()\n",
    "print(p)"
   ]
  },
  {
   "cell_type": "code",
   "execution_count": null,
   "metadata": {},
   "outputs": [],
   "source": [
    "# return repr\n",
    "p"
   ]
  },
  {
   "cell_type": "code",
   "execution_count": null,
   "metadata": {},
   "outputs": [],
   "source": [
    "repr(p)"
   ]
  },
  {
   "cell_type": "code",
   "execution_count": null,
   "metadata": {},
   "outputs": [],
   "source": [
    "# repr 简单理解就是给机器识别的代码\n",
    "eval(repr(p))"
   ]
  },
  {
   "cell_type": "markdown",
   "metadata": {},
   "source": [
    "## 运算符重载-索引迭代"
   ]
  },
  {
   "cell_type": "code",
   "execution_count": null,
   "metadata": {},
   "outputs": [],
   "source": [
    "class stepper:\n",
    "    def __getitem__(self,i):\n",
    "        return self.data[i]\n",
    "\n",
    "X = stepper()\n",
    "X.data=\"Spam\"\n",
    "\n",
    "print(X[1])"
   ]
  },
  {
   "cell_type": "markdown",
   "metadata": {},
   "source": [
    "## 运算符重载-属性引用"
   ]
  },
  {
   "cell_type": "code",
   "execution_count": null,
   "metadata": {},
   "outputs": [],
   "source": [
    "class empty:\n",
    "    def __init__(self):\n",
    "         self.age = 30\n",
    "    \n",
    "    def __getattribute__(self,attrname):\n",
    "        if attrname == \"age\":\n",
    "            return 40\n",
    "        else:\n",
    "            raise AttributeError\n",
    "\n",
    "\n",
    "X = empty()\n",
    "X.age        #Print 40\n",
    "\n",
    "X.name       #AttributeError:name"
   ]
  },
  {
   "cell_type": "markdown",
   "metadata": {},
   "source": [
    "# 类的继承"
   ]
  },
  {
   "cell_type": "code",
   "execution_count": null,
   "metadata": {},
   "outputs": [],
   "source": [
    "class Chinese(Person):\n",
    "    pass"
   ]
  },
  {
   "cell_type": "code",
   "execution_count": null,
   "metadata": {},
   "outputs": [],
   "source": [
    "c = Chinese()\n",
    "print(c.name)"
   ]
  },
  {
   "cell_type": "code",
   "execution_count": null,
   "metadata": {},
   "outputs": [],
   "source": [
    "c.show()\n",
    "print(c)"
   ]
  },
  {
   "cell_type": "code",
   "execution_count": null,
   "metadata": {},
   "outputs": [],
   "source": [
    "# 稍微复杂\n",
    "class CAnimal:\n",
    "    def __init__(self,voice='hello'): # voice初始化默认为hello\n",
    "        self.voice = voice\n",
    "    def Say(self):\n",
    "        print(self.voice)\n",
    "    def Run(self):\n",
    "        pass    # 空操作语句（不做任何操作）\n",
    "\n",
    "class CDog(CAnimal):          # 继承类CAnimal\n",
    "    def SetVoice(self,voice): # 子类增加函数SetVoice\n",
    "        self.voice = voice\n",
    "    def Run(self):            # 子类重载函数Run\n",
    "        print('Running')\n",
    "\n",
    "dog = CDog()\n",
    "dog.SetVoice('I am a dog!') \n",
    "dog.Say()\n",
    "dog.Run()"
   ]
  },
  {
   "cell_type": "markdown",
   "metadata": {},
   "source": [
    "## 多重继承"
   ]
  },
  {
   "cell_type": "code",
   "execution_count": null,
   "metadata": {},
   "outputs": [],
   "source": [
    "class C2: pass\n",
    "class C3: pass\n",
    "class C1(C2, C3): pass"
   ]
  },
  {
   "cell_type": "markdown",
   "metadata": {},
   "source": [
    "## 静态方法和类方法"
   ]
  },
  {
   "cell_type": "code",
   "execution_count": null,
   "metadata": {},
   "outputs": [],
   "source": [
    "class TestClass():\n",
    "\n",
    "    def callFunc(self):\n",
    "        print('callFunc')\n",
    "\n",
    "    @staticmethod\n",
    "    def callStatic():\n",
    "        print('static call')\n",
    "\n",
    "    @classmethod\n",
    "    def callClass(cls):\n",
    "        print('class call')"
   ]
  },
  {
   "cell_type": "code",
   "execution_count": null,
   "metadata": {},
   "outputs": [],
   "source": [
    "c = TestClass()\n",
    "c.callFunc()\n",
    "c.callStatic()\n",
    "c.callClass()"
   ]
  },
  {
   "cell_type": "code",
   "execution_count": null,
   "metadata": {},
   "outputs": [],
   "source": [
    "#TestClass.callFunc()\n",
    "TestClass.callStatic()\n",
    "TestClass.callClass()"
   ]
  },
  {
   "cell_type": "markdown",
   "metadata": {},
   "source": [
    "# 新式类的区别"
   ]
  },
  {
   "cell_type": "code",
   "execution_count": null,
   "metadata": {},
   "outputs": [],
   "source": [
    "# 只在Python2出现，Python3中两种写法一致\n",
    "class E:    \n",
    "#经典类  \n",
    "    pass  \n",
    "      \n",
    "class E1(object):    \n",
    "#新式类  \n",
    "    pass  \n",
    "       \n",
    "e = E()  \n",
    "print(\"经典类只在Python2中存在\")  \n",
    "print(e)  \n",
    "print(type(e))  \n",
    "print(e.__class__) \n",
    "  \n",
    "print(\"新式类\")  \n",
    "e1 = E1()  \n",
    "print(e1)\n",
    "print(type(e1))\n",
    "print(e1.__class__)  \n",
    "  "
   ]
  },
  {
   "cell_type": "code",
   "execution_count": null,
   "metadata": {},
   "outputs": [],
   "source": [
    "class A(object):    \n",
    "    \"\"\" \n",
    "    新式类 \n",
    "    作为所有类的基类 \n",
    "    \"\"\"  \n",
    "    def foo(self):    \n",
    "        print(\"class A\")   \n",
    "          \n",
    "class A1():    \n",
    "    \"\"\" \n",
    "    经典类 \n",
    "    作为所有类的基类 \n",
    "    \"\"\"  \n",
    "    def foo(self):    \n",
    "        print(\"class A1\")    \n",
    "          \n",
    "class C(A):    \n",
    "    pass  \n",
    "      \n",
    "class C1(A1):    \n",
    "    pass  \n",
    "      \n",
    "class D(A):    \n",
    "    def foo(self):    \n",
    "        print(\"class D\")    \n",
    "      \n",
    "class D1(A1):    \n",
    "    def foo(self):    \n",
    "        print(\"class D1\")    \n",
    "          \n",
    "    \n",
    "    \n",
    "class E(C, D):    \n",
    "    pass  \n",
    "      \n",
    "class E1(C1, D1):    \n",
    "    pass  \n",
    "  \n",
    "e = E()  \n",
    "e.foo()  \n",
    "    \n",
    "  \n",
    "e1 = E1()  \n",
    "e1.foo()  "
   ]
  },
  {
   "cell_type": "code",
   "execution_count": null,
   "metadata": {},
   "outputs": [],
   "source": [
    "class A(object):    \n",
    "    __slots__ = ('name', 'age')   \n",
    "    \n",
    "a = A()  \n",
    "\n",
    "a.name1 = \"a\" "
   ]
  },
  {
   "cell_type": "code",
   "execution_count": null,
   "metadata": {},
   "outputs": [],
   "source": [
    "class A(object):    \n",
    "    def __getattribute__(self, *args, **kwargs):    \n",
    "        print(\"A.__getattribute__\")  \n",
    "               \n",
    "a = A()  \n",
    "  \n",
    "a.test"
   ]
  },
  {
   "cell_type": "code",
   "execution_count": null,
   "metadata": {},
   "outputs": [],
   "source": [
    "class A(object):\n",
    "    def __init__(self, *args, **kwargs):\n",
    "        print(\"init\")\n",
    "    def __new__(cls, *args, **kwargs):\n",
    "        print(\"new\")\n",
    "        print(type(cls))\n",
    "        return object.__new__(cls, *args, **kwargs)  \n",
    "a=A()"
   ]
  },
  {
   "cell_type": "markdown",
   "metadata": {},
   "source": [
    "## 类的私有属性"
   ]
  },
  {
   "cell_type": "code",
   "execution_count": null,
   "metadata": {},
   "outputs": [],
   "source": [
    "class JustCounter:\n",
    "    __secretCount = 0  # 私有变量\n",
    "    publicCount = 0    # 公开变量\n",
    "\n",
    "    def count(self):\n",
    "        self.__secretCount += 1\n",
    "        self.publicCount += 1\n",
    "        print(self.__secretCount)\n",
    "\n",
    "counter = JustCounter()\n",
    "counter.count()\n",
    "counter.count()\n",
    "print(counter.publicCount)\n",
    "#print(counter.__secretCount)  # 报错，实例不能访问私有变量\n",
    "print(counter._JustCounter__secretCount) # 这样就可以访问了，伪私有变量"
   ]
  },
  {
   "cell_type": "code",
   "execution_count": null,
   "metadata": {
    "scrolled": true
   },
   "outputs": [],
   "source": [
    "class A(object):\n",
    "    def __func(self):pass\n",
    "    \n",
    "print(A.__dict__)\n",
    "a = A()\n",
    "a._A__func()"
   ]
  },
  {
   "cell_type": "markdown",
   "metadata": {},
   "source": [
    "# 异常处理器"
   ]
  },
  {
   "cell_type": "markdown",
   "metadata": {},
   "source": [
    "### 默认异常处理器"
   ]
  },
  {
   "cell_type": "code",
   "execution_count": null,
   "metadata": {},
   "outputs": [],
   "source": [
    "x, y = 5, 0\n",
    "x/y"
   ]
  },
  {
   "cell_type": "code",
   "execution_count": null,
   "metadata": {},
   "outputs": [],
   "source": [
    "s = 'hello'\n",
    "s[100]"
   ]
  },
  {
   "cell_type": "markdown",
   "metadata": {},
   "source": [
    "### Try Except 处理器"
   ]
  },
  {
   "cell_type": "code",
   "execution_count": null,
   "metadata": {},
   "outputs": [],
   "source": [
    "x, y = 5, 0\n",
    "try:\n",
    "    x/y\n",
    "except ZeroDivisionError:\n",
    "    print('error')"
   ]
  },
  {
   "cell_type": "code",
   "execution_count": null,
   "metadata": {},
   "outputs": [],
   "source": [
    "s = 'hello'\n",
    "try:\n",
    "    s[100]\n",
    "except ZeroDivisionError:  # 捕获除0操作？\n",
    "    print('error')"
   ]
  },
  {
   "cell_type": "markdown",
   "metadata": {},
   "source": [
    "### 异常的继承关系"
   ]
  },
  {
   "cell_type": "code",
   "execution_count": null,
   "metadata": {},
   "outputs": [],
   "source": [
    "try:\n",
    "    1/0\n",
    "except ZeroDivisionError:\n",
    "    print('ZeroDivisionError catched')\n",
    "except ArithmeticError:\n",
    "    print('ArithmeticError catched')"
   ]
  },
  {
   "cell_type": "code",
   "execution_count": null,
   "metadata": {},
   "outputs": [],
   "source": [
    "try:\n",
    "    1/0\n",
    "except ArithmeticError:\n",
    "    print('ArithmeticError catched')\n",
    "except ZeroDivisionError:\n",
    "    print('ZeroDivisionError catched')"
   ]
  },
  {
   "cell_type": "markdown",
   "metadata": {},
   "source": [
    "## 触发异常"
   ]
  },
  {
   "cell_type": "code",
   "execution_count": null,
   "metadata": {},
   "outputs": [],
   "source": [
    "raise"
   ]
  },
  {
   "cell_type": "code",
   "execution_count": null,
   "metadata": {},
   "outputs": [],
   "source": [
    "raise ZeroDivisionError"
   ]
  },
  {
   "cell_type": "code",
   "execution_count": null,
   "metadata": {},
   "outputs": [],
   "source": [
    "try:\n",
    "    raise ZeroDivisionError\n",
    "except ZeroDivisionError:\n",
    "    print('error')"
   ]
  },
  {
   "cell_type": "code",
   "execution_count": null,
   "metadata": {},
   "outputs": [],
   "source": [
    "# old code support, exception inherit BaseException\n",
    "try:\n",
    "    raise \"exception\"\n",
    "except \"exception\":\n",
    "    print(\"catched\")"
   ]
  },
  {
   "cell_type": "markdown",
   "metadata": {},
   "source": [
    "## Try/Catch/Else\n",
    "\n"
   ]
  },
  {
   "cell_type": "code",
   "execution_count": null,
   "metadata": {
    "scrolled": true
   },
   "outputs": [],
   "source": [
    "try:\n",
    "    fh = open(\"testfile\", \"w\")\n",
    "    fh.write(\"这是一个测试文件，用于测试异常!!\")\n",
    "except IOError:\n",
    "    print(\"Error: 没有找到文件或读取文件失败\")\n",
    "else:\n",
    "    print(\"内容写入文件成功\")\n",
    "    fh.close()"
   ]
  },
  {
   "cell_type": "markdown",
   "metadata": {},
   "source": [
    "## ELSE"
   ]
  },
  {
   "cell_type": "code",
   "execution_count": null,
   "metadata": {},
   "outputs": [],
   "source": [
    "try:\n",
    "    print('no excpetion here')\n",
    "except Exception:\n",
    "    print('exception')\n",
    "else:\n",
    "    # 这里的代码只会在try语句里没有触发异常时运行,\n",
    "    # 但是这里的异常将 *不会* 被捕获\n",
    "    print('only run when no exception')\n",
    "finally:\n",
    "    print('print anyway')"
   ]
  },
  {
   "cell_type": "markdown",
   "metadata": {},
   "source": [
    "## Finally"
   ]
  },
  {
   "cell_type": "code",
   "execution_count": null,
   "metadata": {},
   "outputs": [],
   "source": [
    "try:\n",
    "    fh = open(\"testfile.notexist\", \"r\")\n",
    "    fh.write(\"这是一个测试文件，用于测试异常!!\")\n",
    "finally:\n",
    "    print(\"Error: 没有找到文件或读取文件失败\")"
   ]
  },
  {
   "cell_type": "code",
   "execution_count": null,
   "metadata": {},
   "outputs": [],
   "source": [
    "try:\n",
    "    fh = open(\"testfile\", \"w\")\n",
    "    fh.write(\"这是一个测试文件，用于测试异常!!\")\n",
    "finally:\n",
    "    print(\"Error: 没有找到文件或读取文件失败\")"
   ]
  },
  {
   "cell_type": "markdown",
   "metadata": {},
   "source": [
    "### finally陷阱"
   ]
  },
  {
   "cell_type": "code",
   "execution_count": null,
   "metadata": {},
   "outputs": [],
   "source": [
    "def func():\n",
    "    try:\n",
    "        1/0\n",
    "    except IndexError as e:\n",
    "        print('index error')\n",
    "    finally:\n",
    "        print('finally missed')\n",
    "        return"
   ]
  },
  {
   "cell_type": "code",
   "execution_count": null,
   "metadata": {},
   "outputs": [],
   "source": [
    "func()\n",
    "\n",
    "# 为什么异常消失了？"
   ]
  },
  {
   "cell_type": "markdown",
   "metadata": {},
   "source": [
    "# 自定义异常"
   ]
  },
  {
   "cell_type": "code",
   "execution_count": null,
   "metadata": {},
   "outputs": [],
   "source": [
    "# 废弃的用法，old-style\n",
    "error = 'this is exception'\n",
    "try:\n",
    "    raise error\n",
    "except error:\n",
    "    print('string exception caught')"
   ]
  },
  {
   "cell_type": "code",
   "execution_count": null,
   "metadata": {},
   "outputs": [],
   "source": [
    "class MyError(Exception):\n",
    "    def __init__(self, value):\n",
    "        self.value = value\n",
    "    def __str__(self):\n",
    "        return repr(self.value)\n",
    "# using e.value or e\n",
    "try:\n",
    "    raise MyError(2*2)\n",
    "except MyError as e:\n",
    "    print('My exception occurred, value:', e.value)\n",
    "    # print 'My exception occurred, value:', e"
   ]
  },
  {
   "cell_type": "code",
   "execution_count": null,
   "metadata": {},
   "outputs": [],
   "source": [
    "class GeneralError(Exception): pass\n",
    "class NamedError1(GeneralError): pass\n",
    "class NamedError2(GeneralError): pass\n",
    "\n",
    "try:\n",
    "#     raise GeneralError()\n",
    "    raise NamedError1()\n",
    "#     raise NamedError2()\n",
    "except GeneralError as ex:\n",
    "    print(ex.__class__)"
   ]
  },
  {
   "cell_type": "markdown",
   "metadata": {},
   "source": [
    "# 断言"
   ]
  },
  {
   "cell_type": "code",
   "execution_count": null,
   "metadata": {},
   "outputs": [],
   "source": [
    "assert 1==1"
   ]
  },
  {
   "cell_type": "code",
   "execution_count": null,
   "metadata": {},
   "outputs": [],
   "source": [
    "assert 1==0"
   ]
  },
  {
   "cell_type": "code",
   "execution_count": null,
   "metadata": {},
   "outputs": [],
   "source": [
    "assert 3<2"
   ]
  },
  {
   "cell_type": "code",
   "execution_count": null,
   "metadata": {},
   "outputs": [],
   "source": [
    "assert True"
   ]
  },
  {
   "cell_type": "code",
   "execution_count": null,
   "metadata": {},
   "outputs": [],
   "source": [
    "# 异常参数\n",
    "assert True, 'error...'"
   ]
  },
  {
   "cell_type": "markdown",
   "metadata": {},
   "source": [
    "## With/As"
   ]
  },
  {
   "cell_type": "code",
   "execution_count": null,
   "metadata": {},
   "outputs": [],
   "source": [
    "with open('nothing.txt','w') as f:\n",
    "    f.write('a')\n",
    "    print(2/0)\n",
    "    print('continue')"
   ]
  },
  {
   "cell_type": "markdown",
   "metadata": {},
   "source": [
    "## 环境管理协议"
   ]
  },
  {
   "cell_type": "code",
   "execution_count": null,
   "metadata": {},
   "outputs": [],
   "source": [
    "class Open:\n",
    "    def __init__(self,filepath):\n",
    "        self.f = filepath\n",
    "\n",
    "    def write(self):\n",
    "        pass\n",
    "\n",
    "    def __enter__(self):\n",
    "        print(\"出现with语句，对象会调用我\")\n",
    "        return self\n",
    "\n",
    "    def __exit__(self, exc_type, exc_val, exc_tb):\n",
    "        print(\"with结束之后，会执行我\")\n",
    "        # return True  #返回值为正，with里面抛出异常时，程序不会退出，会执行with代码块，后面的代码"
   ]
  },
  {
   "cell_type": "code",
   "execution_count": null,
   "metadata": {},
   "outputs": [],
   "source": [
    "with Open('1.txt') as fp:\n",
    "    fp.write()\n",
    "    1/0"
   ]
  },
  {
   "cell_type": "markdown",
   "metadata": {},
   "source": [
    "## 异常和相关模块"
   ]
  },
  {
   "cell_type": "code",
   "execution_count": null,
   "metadata": {},
   "outputs": [],
   "source": [
    "import traceback\n",
    "import inspect\n",
    "try:\n",
    "    1/0\n",
    "except:\n",
    "    traceback.print_exc()\n",
    "    print(traceback.format_exc())\n",
    "    # print inspect.stack()"
   ]
  },
  {
   "cell_type": "code",
   "execution_count": null,
   "metadata": {},
   "outputs": [],
   "source": [
    "import sys\n",
    "try:\n",
    "    1/0\n",
    "except:\n",
    "    tp,val,td = sys.exc_info()\n",
    "    print(tp,\":\",val)"
   ]
  }
 ],
 "metadata": {
  "kernelspec": {
   "display_name": "Python 3",
   "language": "python",
   "name": "python3"
  },
  "language_info": {
   "codemirror_mode": {
    "name": "ipython",
    "version": 3
   },
   "file_extension": ".py",
   "mimetype": "text/x-python",
   "name": "python",
   "nbconvert_exporter": "python",
   "pygments_lexer": "ipython3",
   "version": "3.6.5"
  }
 },
 "nbformat": 4,
 "nbformat_minor": 2
}
