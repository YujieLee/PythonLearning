{
 "cells": [
  {
   "cell_type": "markdown",
   "metadata": {},
   "source": [
    "# 并发编程"
   ]
  },
  {
   "cell_type": "markdown",
   "metadata": {
    "collapsed": true
   },
   "source": [
    "### 创建线程"
   ]
  },
  {
   "cell_type": "code",
   "execution_count": null,
   "metadata": {},
   "outputs": [],
   "source": [
    "import threading\n",
    "import time\n",
    " \n",
    "def counter(n):  \n",
    "    cnt = 0;  \n",
    "    for i in range(n):  \n",
    "        cnt += 1\n",
    "        time.sleep(0.1)\n",
    "        print(cnt)\n",
    "               \n",
    "th = threading.Thread(target=counter, args=(10,));   \n",
    "th.start();  \n",
    "th.join(); \n",
    "print('main thread task done')"
   ]
  },
  {
   "cell_type": "markdown",
   "metadata": {},
   "source": [
    "## 创建线程-继承类"
   ]
  },
  {
   "cell_type": "code",
   "execution_count": null,
   "metadata": {
    "scrolled": true
   },
   "outputs": [],
   "source": [
    "import threading, time, random  \n",
    "  \n",
    "def counter():  \n",
    "    cnt = 0;  \n",
    "    for i in range(10000):  \n",
    "        for j in range(i):  \n",
    "            cnt += j;  \n",
    "\n",
    "class SubThread(threading.Thread):  \n",
    "    def __init__(self, name):  \n",
    "        threading.Thread.__init__(self, name=name) \n",
    "        pass\n",
    "  \n",
    "    def run(self):  \n",
    "        i = 0;  \n",
    "        while i < 3:  \n",
    "            print(self.name,'counting...\\n') \n",
    "            counter();  \n",
    "            print(self.name,'finish\\n')  \n",
    "            i += 1;  \n",
    "\n",
    "th = SubThread('thread-1')\n",
    "th.start()\n",
    "th.join()\n",
    "print('all done') "
   ]
  },
  {
   "cell_type": "code",
   "execution_count": null,
   "metadata": {
    "scrolled": true
   },
   "outputs": [],
   "source": [
    "import threading, time\n",
    "  \n",
    "class SubThread(threading.Thread):  \n",
    "    def __init__(self, name):  \n",
    "        threading.Thread.__init__(self, name=name)  \n",
    "  \n",
    "    def run(self):  \n",
    "        i = 0;  \n",
    "        while i < 3:  \n",
    "            print(self.name,'counting...\\n')  \n",
    "            time.sleep(1) \n",
    "            print(self.name,'finish\\n') \n",
    "            i += 1\n",
    "\n",
    "th = SubThread('thread-1')\n",
    "print('main start')\n",
    "th.setDaemon(False)\n",
    "th.start()  \n",
    "th.join() \n",
    "print('main end\\n')"
   ]
  },
  {
   "cell_type": "markdown",
   "metadata": {},
   "source": [
    "## Daemon守护线程\n",
    "### 外部运行"
   ]
  },
  {
   "cell_type": "markdown",
   "metadata": {},
   "source": [
    "# 线程同步"
   ]
  },
  {
   "cell_type": "code",
   "execution_count": null,
   "metadata": {},
   "outputs": [],
   "source": [
    "from threading import Thread\n",
    "some_var = 0\n",
    "class IncrementThread(Thread):\n",
    "    def run(self):\n",
    "        global some_var\n",
    "        read_value = some_var\n",
    "        print(\"some_var in %s is %d\" % (self.name, read_value))\n",
    "        some_var = read_value + 1\n",
    "        #print \"some_var in %s after increment is %d\" % (self.name, some_var)\n",
    "def use_increment_thread():\n",
    "    threads = []\n",
    "    for i in range(50):\n",
    "        t = IncrementThread()\n",
    "        threads.append(t)\n",
    "        t.start()\n",
    "    for t in threads:\n",
    "        t.join()\n",
    "    print(\"After 50 modifications, some_var should have become 50\")\n",
    "    print(\"After 50 modifications, some_var is %d\" % (some_var,))\n",
    "use_increment_thread()"
   ]
  },
  {
   "cell_type": "code",
   "execution_count": null,
   "metadata": {},
   "outputs": [],
   "source": [
    "# lock\n",
    "# 可以通过下面两种方式创建一个Lock对象，新创建的 Lock 对象处于未上锁的状态：\n",
    "import threading\n",
    "l = threading.Lock()\n",
    "l"
   ]
  },
  {
   "cell_type": "code",
   "execution_count": null,
   "metadata": {},
   "outputs": [],
   "source": [
    "from threading import Lock, Thread\n",
    "lock = Lock()\n",
    "some_var = 0\n",
    "class IncrementThread(Thread):\n",
    "    def run(self):\n",
    "        #we want to read a global variable\n",
    "        #and then increment it\n",
    "        global some_var\n",
    "        lock.acquire(True)\n",
    "        read_value = some_var\n",
    "        print(\"some_var in %s is %d\" % (self.name, read_value))\n",
    "        some_var = read_value + 1\n",
    "        print(\"some_var in %s after increment is %d\" % (self.name, some_var))\n",
    "        lock.release()\n",
    "def use_increment_thread():\n",
    "    threads = []\n",
    "    for i in range(50):\n",
    "        t = IncrementThread()\n",
    "        threads.append(t)\n",
    "        t.start()\n",
    "    for t in threads:\n",
    "        t.join()\n",
    "    print(\"After 50 modifications, some_var should have become 50\")\n",
    "    print(\"After 50 modifications, some_var is %d\" % (some_var,))\n",
    "use_increment_thread()"
   ]
  },
  {
   "cell_type": "code",
   "execution_count": null,
   "metadata": {},
   "outputs": [],
   "source": [
    "# 不加锁计数器\n",
    "import time\n",
    "from threading import Thread\n",
    "value = 0\n",
    "def getlock():\n",
    "    global value\n",
    "    new = value + 1\n",
    "    time.sleep(0.001)  # 使用sleep让线程有机会切换\n",
    "    value = new\n",
    "threads = []\n",
    "for i in range(100):\n",
    "    t = Thread(target=getlock)\n",
    "    t.start()\n",
    "    threads.append(t)\n",
    "for t in threads:\n",
    "    t.join()\n",
    "print(value)"
   ]
  },
  {
   "cell_type": "code",
   "execution_count": null,
   "metadata": {},
   "outputs": [],
   "source": [
    "# 加锁保证结果\n",
    "import time\n",
    "from threading import Thread, Lock\n",
    "value = 0\n",
    "lock = Lock()\n",
    "def getlock():\n",
    "    global value\n",
    "    with lock:\n",
    "        new = value + 1\n",
    "        time.sleep(0.001)\n",
    "        value = new\n",
    "threads = []\n",
    "for i in range(100):\n",
    "    t = Thread(target=getlock)\n",
    "    t.start()\n",
    "    threads.append(t)\n",
    "for t in threads:\n",
    "    t.join()\n",
    "print(value)"
   ]
  },
  {
   "cell_type": "code",
   "execution_count": null,
   "metadata": {},
   "outputs": [],
   "source": [
    "import threading  \n",
    "import time  \n",
    "  \n",
    "def test_xc(): \n",
    "    mutex.acquire()#取得锁  \n",
    "    f = open(\"test.txt\",\"a\")  \n",
    "    f.write(\"test_dxc\"+'\\n')  \n",
    "    f.close()\n",
    "    mutex.release()#释放锁  \n",
    "\n",
    "mutex = threading.Lock()#创建锁 \n",
    "\n",
    "threads = []\n",
    "for i in range(5):  \n",
    "    t = threading.Thread(target=test_xc)  \n",
    "    t.start()  \n",
    "    threads.append(t)\n",
    "for t in threads:\n",
    "    t.join()"
   ]
  },
  {
   "cell_type": "markdown",
   "metadata": {},
   "source": [
    "## 可重入锁\n",
    "### 使用command line运行"
   ]
  },
  {
   "cell_type": "code",
   "execution_count": null,
   "metadata": {},
   "outputs": [],
   "source": [
    "import threading\n",
    "\n",
    "print('lock acquire')\n",
    "lock = threading.Lock()\n",
    "lock.acquire()\n",
    "lock.acquire()\n",
    "lock.release()\n",
    "lock.release()\n",
    "print('done')"
   ]
  },
  {
   "cell_type": "code",
   "execution_count": null,
   "metadata": {},
   "outputs": [],
   "source": [
    "import threading\n",
    "\n",
    "print('lock acquire')\n",
    "lock = threading.RLock()\n",
    "lock.acquire()\n",
    "lock.acquire()\n",
    "lock.release()\n",
    "lock.release()\n",
    "print('done')"
   ]
  },
  {
   "cell_type": "markdown",
   "metadata": {},
   "source": [
    "## Condition"
   ]
  },
  {
   "cell_type": "code",
   "execution_count": null,
   "metadata": {},
   "outputs": [],
   "source": [
    "import threading, time\n",
    "class Seeker(threading.Thread):\n",
    "    def __init__(self, cond, name):\n",
    "        super(Seeker, self).__init__()\n",
    "        self.cond = cond\n",
    "        self.name = name\n",
    "    def run(self):\n",
    "        time.sleep(1) #确保先运行Seeker中的方法\n",
    "        self.cond.acquire() #b\n",
    "        print(self.name + ': 我已经把眼睛蒙上了')\n",
    "        self.cond.notify()\n",
    "        self.cond.wait() #c\n",
    "                         #f\n",
    "        print(self.name + ': 我找到你了 ~_~')\n",
    "        self.cond.notify()\n",
    "        self.cond.release()\n",
    "                            #g\n",
    "        print(self.name + ': 我赢了')   #h\n",
    "class Hider(threading.Thread):\n",
    "    def __init__(self, cond, name):\n",
    "        super(Hider, self).__init__()\n",
    "        self.cond = cond\n",
    "        self.name = name\n",
    "    def run(self):\n",
    "        self.cond.acquire()\n",
    "        self.cond.wait()    #a    #释放对琐的占用，同时线程挂起在这里，直到被notify并重新占有琐。\n",
    "                            #d\n",
    "        print(self.name + ': 我已经藏好了，你快来找我吧')\n",
    "        self.cond.notify()\n",
    "        self.cond.wait()    #e\n",
    "                            #h\n",
    "        self.cond.release()\n",
    "        print(self.name + ': 被你找到了，哎~~~')\n",
    "cond = threading.Condition()\n",
    "seeker = Seeker(cond, 'seeker')\n",
    "hider = Hider(cond, 'hider')\n",
    "seeker.start()\n",
    "hider.start()"
   ]
  },
  {
   "cell_type": "markdown",
   "metadata": {
    "collapsed": true
   },
   "source": [
    "## Event 交通灯"
   ]
  },
  {
   "cell_type": "code",
   "execution_count": null,
   "metadata": {},
   "outputs": [],
   "source": [
    "import threading\n",
    "import random\n",
    "import time\n",
    "\n",
    "\n",
    "class VehicleThread(threading.Thread):\n",
    "    \"\"\"Class representing a motor vehicle at an intersection\"\"\"\n",
    "\n",
    "    def __init__(self, threadName, event):\n",
    "        \"\"\"Initializes thread\"\"\"\n",
    "\n",
    "        threading.Thread.__init__(self, name=threadName)\n",
    "\n",
    "        # ensures that each vehicle waits for a green light\n",
    "        self.threadEvent = event\n",
    "\n",
    "    def run(self):\n",
    "        \"\"\"Vehicle waits unless/until light is green\"\"\"\n",
    "\n",
    "        # stagger arrival times\n",
    "        time.sleep(random.randrange(1, 10))\n",
    "\n",
    "        # prints arrival time of car at intersection\n",
    "        print(\"%s arrived at %s\\n\" % \\\n",
    "              (self.getName(), time.ctime(time.time())))\n",
    "\n",
    "        # wait for green light\n",
    "        self.threadEvent.wait()\n",
    "\n",
    "        # displays time that car departs intersection\n",
    "        print(\"%s passes through intersection at %s\\n\" % \\\n",
    "              (self.getName(), time.ctime(time.time())))\n",
    "\n",
    "\n",
    "greenLight = threading.Event()\n",
    "vehicleThreads = []\n",
    "\n",
    "# creates and starts five Vehicle threads\n",
    "for i in range(1, 5):\n",
    "    vehicleThreads.append(VehicleThread(\"Vehicle\" + str(i),\n",
    "                                        greenLight))\n",
    "\n",
    "for vehicle in vehicleThreads:\n",
    "    vehicle.start()\n",
    "\n",
    "while threading.activeCount() > 1:\n",
    "    # sets the Event's flag to false -- block all incoming vehicles\n",
    "    greenLight.clear()\n",
    "    print(\"RED LIGHT! at\", time.ctime(time.time()))\n",
    "    time.sleep(3)\n",
    "\n",
    "    # sets the Event's flag to true -- awaken all waiting vehicles\n",
    "    print(\"GREEN LIGHT! at\", time.ctime(time.time()))\n",
    "    greenLight.set()\n",
    "    time.sleep(1)"
   ]
  },
  {
   "cell_type": "markdown",
   "metadata": {
    "collapsed": true
   },
   "source": [
    "## 信号量"
   ]
  },
  {
   "cell_type": "code",
   "execution_count": null,
   "metadata": {},
   "outputs": [],
   "source": [
    "import time\n",
    "from random import random\n",
    "from threading import Thread, Semaphore\n",
    "sema = Semaphore(1)\n",
    "def foo(tid):\n",
    "    with sema:\n",
    "        print('{} acquire sema'.format(tid))\n",
    "        wt = random() * 2\n",
    "        time.sleep(wt)\n",
    "    print('{} release sema'.format(tid))\n",
    "threads = []\n",
    "for i in range(5):\n",
    "    t = Thread(target=foo, args=(i,))\n",
    "    threads.append(t)\n",
    "    t.start()\n",
    "for t in threads:\n",
    "    t.join()"
   ]
  },
  {
   "cell_type": "markdown",
   "metadata": {},
   "source": [
    "# 进程"
   ]
  },
  {
   "cell_type": "code",
   "execution_count": null,
   "metadata": {},
   "outputs": [],
   "source": [
    "import multiprocessing\n",
    "import time\n",
    "def foo(i):\n",
    "    print('called function in process: %s' % i)\n",
    "    time.sleep(5)\n",
    "    return\n",
    "    \n",
    "Process_jobs = []\n",
    "for i in range(5):\n",
    "    p = multiprocessing.Process(target=foo, args=(i,))\n",
    "    Process_jobs.append(p)\n",
    "    p.start()\n",
    "    \n",
    "for p in Process_jobs:\n",
    "    p.join()"
   ]
  },
  {
   "cell_type": "markdown",
   "metadata": {},
   "source": [
    "## 后台进程"
   ]
  },
  {
   "cell_type": "code",
   "execution_count": null,
   "metadata": {},
   "outputs": [],
   "source": [
    "import multiprocessing\n",
    "import time\n",
    "\n",
    "def foo():\n",
    "    name = multiprocessing.current_process().name\n",
    "    print (\"Starting %s \\n\" %name)\n",
    "    time.sleep(3)\n",
    "    print (\"Exiting %s \\n\" %name)\n",
    "\n",
    "background_process = multiprocessing.Process\\\n",
    "                    (name='background_process',\\\n",
    "                     target=foo)\n",
    "background_process.daemon = True\n",
    "NO_background_process = multiprocessing.Process\\\n",
    "                          (name='NO_background_process',\\\n",
    "                           target=foo)\n",
    "NO_background_process.daemon = False\n",
    "background_process.start()\n",
    "NO_background_process.start()\n"
   ]
  },
  {
   "cell_type": "markdown",
   "metadata": {},
   "source": [
    "### 杀死进程"
   ]
  },
  {
   "cell_type": "code",
   "execution_count": null,
   "metadata": {},
   "outputs": [],
   "source": [
    "import multiprocessing\n",
    "import time\n",
    "def foo():\n",
    "    print('Starting function')\n",
    "    time.sleep(0.1)\n",
    "    print('Finished function')\n",
    "\n",
    "p = multiprocessing.Process(target=foo, name='Process-#Test#')\n",
    "print('Process before execution:', p, p.is_alive())\n",
    "p.start()\n",
    "print('Process running:', p, p.is_alive())\n",
    "p.terminate()\n",
    "print('Process terminated:', p, p.is_alive())\n",
    "p.join()\n",
    "print('Process joined:', p, p.is_alive())\n",
    "print('Process exit code:', p.exitcode)"
   ]
  },
  {
   "cell_type": "markdown",
   "metadata": {
    "collapsed": true
   },
   "source": [
    "## 继承创建进程"
   ]
  },
  {
   "cell_type": "code",
   "execution_count": null,
   "metadata": {},
   "outputs": [],
   "source": [
    "import multiprocessing\n",
    "class MyProcess(multiprocessing.Process):\n",
    "    def run(self):\n",
    "        print('called run method in process: %s' %self.name)\n",
    "        return\n",
    "\n",
    "\n",
    "jobs = []\n",
    "for i in range(5):\n",
    "    p = MyProcess ()\n",
    "    jobs.append(p)\n",
    "    p.start()\n",
    "    p.join()"
   ]
  },
  {
   "cell_type": "markdown",
   "metadata": {},
   "source": [
    "# 进程间通信"
   ]
  },
  {
   "cell_type": "markdown",
   "metadata": {},
   "source": [
    "## 进程共享内存"
   ]
  },
  {
   "cell_type": "code",
   "execution_count": null,
   "metadata": {},
   "outputs": [],
   "source": [
    "from multiprocessing import Process, Value, Array\n",
    "\n",
    "def f(n, a):\n",
    "    n.value = 3.1415927\n",
    "    for i in range(len(a)):\n",
    "        a[i] = -a[i]\n",
    "\n",
    "if __name__ == '__main__':\n",
    "    num = Value('d', 0.0)\n",
    "    arr = Array('i', range(10))\n",
    "\n",
    "    p = Process(target=f, args=(num, arr))\n",
    "    p.start()\n",
    "    p.join()\n",
    "\n",
    "    print(num.value)\n",
    "    print(arr[:])"
   ]
  },
  {
   "cell_type": "markdown",
   "metadata": {},
   "source": [
    "## 进程共享-队列"
   ]
  },
  {
   "cell_type": "code",
   "execution_count": null,
   "metadata": {},
   "outputs": [],
   "source": [
    "# https://docs.python.org/3/library/multiprocessing.html?highlight=queue#multiprocessing.Queue\n",
    "import multiprocessing\n",
    "import random\n",
    "import time\n",
    "class producer(multiprocessing.Process):\n",
    "    def __init__(self, queue):\n",
    "        multiprocessing.Process.__init__(self)\n",
    "        self.queue = queue\n",
    "    def run(self) :\n",
    "        for i in range(10):\n",
    "            item = random.randint(0, 256)\n",
    "            self.queue.put(item)\n",
    "            print(\"<---Process Producer : item %d appended to queue %s\" % (item,self.name))\n",
    "            time.sleep(1)\n",
    "            # print(\"The size of queue is %s\" % self.queue.qsize())\n",
    "class consumer(multiprocessing.Process):\n",
    "    def __init__(self, queue):\n",
    "        multiprocessing.Process.__init__(self)\n",
    "        self.queue = queue\n",
    "    def run(self):\n",
    "        time.sleep(3)\n",
    "        while True:\n",
    "            # empty or not\n",
    "            time.sleep(2)\n",
    "            try:\n",
    "                item = self.queue.get()\n",
    "                print('--->Process Consumer : item %d popped from by %s \\n' % (item, self.name))\n",
    "            except Exception as e:\n",
    "                print(\"the queue is empty, Process Consumer exit\")\n",
    "                break\n",
    "        time.sleep(1)"
   ]
  },
  {
   "cell_type": "code",
   "execution_count": null,
   "metadata": {},
   "outputs": [],
   "source": [
    "queue = multiprocessing.Queue()\n",
    "queue.put(-1) # to avoid queue size (empty, qsize on macos)\n",
    "process_producer = producer(queue)\n",
    "process_consumer = consumer(queue)\n",
    "process_producer.start()\n",
    "process_consumer.start()\n",
    "process_producer.join()\n",
    "process_consumer.join()\n",
    "\n",
    "# 如果多个consumer，进程同步"
   ]
  },
  {
   "cell_type": "markdown",
   "metadata": {},
   "source": [
    "### 管道"
   ]
  },
  {
   "cell_type": "code",
   "execution_count": null,
   "metadata": {},
   "outputs": [],
   "source": [
    "from multiprocessing import Process, Pipe\n",
    " \n",
    "class Consumer(Process):\n",
    "    def __init__(self, pipe):\n",
    "        Process.__init__(self)\n",
    "        self.pipe = pipe\n",
    " \n",
    "    def run(self):\n",
    "        self.pipe.send(\"Consumer Words\")\n",
    "        print(\"Consumer Received:\", self.pipe.recv())\n",
    " \n",
    " \n",
    "class Producer(Process):\n",
    "    def __init__(self, pipe):\n",
    "        Process.__init__(self)\n",
    "        self.pipe = pipe\n",
    " \n",
    "    def run(self):\n",
    "        print(\"Producer Received:\", self.pipe.recv())\n",
    "        self.pipe.send(\"Producer Words\")\n",
    " \n",
    " \n",
    "pipe = Pipe()\n",
    "p = Producer(pipe[0])\n",
    "c = Consumer(pipe[1])\n",
    "p.daemon = c.daemon = True\n",
    "p.start()\n",
    "c.start()\n",
    "p.join()\n",
    "c.join()\n",
    "print(\"Ended!\")"
   ]
  },
  {
   "cell_type": "markdown",
   "metadata": {},
   "source": [
    "### 进程池"
   ]
  },
  {
   "cell_type": "code",
   "execution_count": null,
   "metadata": {},
   "outputs": [],
   "source": [
    "#阻塞方式\n",
    "from multiprocessing import Lock, Pool\n",
    "import time\n",
    " \n",
    "def function(index):\n",
    "    print(\"Start process: \", index)\n",
    "    time.sleep(3)\n",
    "    print(\"End process\", index)\n",
    " \n",
    " \n",
    "pool = Pool(processes=3)\n",
    "for i in range(4):\n",
    "    pool.apply(function, (i,))\n",
    "\n",
    "print(\"Started processes\")\n",
    "pool.close()\n",
    "pool.join()\n",
    "print(\"Subprocess done.\")"
   ]
  },
  {
   "cell_type": "code",
   "execution_count": null,
   "metadata": {},
   "outputs": [],
   "source": [
    "# 非阻塞方式\n",
    "from multiprocessing import Lock, Pool\n",
    "import time\n",
    " \n",
    "def function(index):\n",
    "    print(\"Start process: \", index)\n",
    "    time.sleep(3)\n",
    "    print(\"End process\", index)\n",
    " \n",
    " \n",
    "pool = Pool(processes=2)\n",
    "for i in range(4):\n",
    "    pool.apply_async(function, (i,))\n",
    "\n",
    "print(\"Started processes\")\n",
    "pool.close()\n",
    "pool.join()\n",
    "print(\"Subprocess done.\")"
   ]
  },
  {
   "cell_type": "markdown",
   "metadata": {},
   "source": [
    "# 正则表达式"
   ]
  },
  {
   "cell_type": "code",
   "execution_count": null,
   "metadata": {},
   "outputs": [],
   "source": [
    "s = r\"<html><body><h1>hello world</h1></body></html>\""
   ]
  },
  {
   "cell_type": "code",
   "execution_count": null,
   "metadata": {},
   "outputs": [],
   "source": [
    "start = s.find(\"<h1>\")\n",
    "end = s.find(\"</h1>\")\n",
    "print(s[start+4:end])"
   ]
  },
  {
   "cell_type": "code",
   "execution_count": null,
   "metadata": {},
   "outputs": [],
   "source": [
    "import re\n",
    "help(re)"
   ]
  },
  {
   "cell_type": "code",
   "execution_count": null,
   "metadata": {},
   "outputs": [],
   "source": [
    "# 导入库\n",
    "import re"
   ]
  },
  {
   "cell_type": "code",
   "execution_count": null,
   "metadata": {},
   "outputs": [],
   "source": [
    "p1 = r\".*<h1>(.*?)</h1>.*\"\n",
    "pattern = re.compile(p1)\n",
    "groups = re.match(pattern, s)\n",
    "print(groups.group(1))"
   ]
  },
  {
   "cell_type": "markdown",
   "metadata": {},
   "source": [
    "## 查找字符串 Match & Search\n",
    "\n"
   ]
  },
  {
   "cell_type": "code",
   "execution_count": null,
   "metadata": {},
   "outputs": [],
   "source": [
    "name=\"Hello,My name is tiger,nice to meet you...\"\n",
    "k=re.search(r't(ige)r',name)\n",
    "if k:\n",
    "    print(k.group(0),k.group(1))\n",
    "else:\n",
    "    print(\"not search!\")\n"
   ]
  },
  {
   "cell_type": "code",
   "execution_count": null,
   "metadata": {},
   "outputs": [],
   "source": [
    "name=\"Hello,My name is tiger,nice to meet you...\"\n",
    "k=re.match(r\"H(....)\", name)\n",
    "if k:\n",
    "    print(k.group(0),'\\n',k.group(1))\n",
    "else:\n",
    "    print(\"not match!\")"
   ]
  },
  {
   "cell_type": "markdown",
   "metadata": {},
   "source": [
    "## 查找所有 FindAll & FindIter"
   ]
  },
  {
   "cell_type": "code",
   "execution_count": null,
   "metadata": {},
   "outputs": [],
   "source": [
    "mail='<user01@mail.com> <user02@mail.com> user04@mail.com'\n",
    "re.findall(r'(\\w+@m....[a-z]{3})', mail)"
   ]
  },
  {
   "cell_type": "code",
   "execution_count": null,
   "metadata": {},
   "outputs": [],
   "source": [
    "mail_list_iter = re.finditer(r'(\\w+@m....[a-z]{3})', mail)"
   ]
  },
  {
   "cell_type": "code",
   "execution_count": null,
   "metadata": {},
   "outputs": [],
   "source": [
    "for i in mail_list_iter:\n",
    "    print(type(i))\n",
    "    print(i.group())"
   ]
  },
  {
   "cell_type": "markdown",
   "metadata": {},
   "source": [
    "## 替换"
   ]
  },
  {
   "cell_type": "code",
   "execution_count": null,
   "metadata": {},
   "outputs": [],
   "source": [
    "help(re.sub)"
   ]
  },
  {
   "cell_type": "code",
   "execution_count": null,
   "metadata": {},
   "outputs": [],
   "source": [
    "test=\"Hi, nice to meet you where are you from?\"\n",
    "re.sub(r'\\s','-',test)"
   ]
  },
  {
   "cell_type": "code",
   "execution_count": null,
   "metadata": {},
   "outputs": [],
   "source": [
    "re.sub(r'\\s','-',test, 3)"
   ]
  },
  {
   "cell_type": "code",
   "execution_count": null,
   "metadata": {
    "scrolled": true
   },
   "outputs": [],
   "source": [
    "help(re.subn)"
   ]
  },
  {
   "cell_type": "code",
   "execution_count": null,
   "metadata": {},
   "outputs": [],
   "source": [
    "re.subn(r'\\s','-',test, 3)"
   ]
  },
  {
   "cell_type": "markdown",
   "metadata": {},
   "source": [
    "### 分隔字符串"
   ]
  },
  {
   "cell_type": "code",
   "execution_count": null,
   "metadata": {},
   "outputs": [],
   "source": [
    "test=\"Hi, nice to meet you where are you from?\"\n",
    "re.split(r\"\\s+\",test)"
   ]
  },
  {
   "cell_type": "code",
   "execution_count": null,
   "metadata": {},
   "outputs": [],
   "source": [
    "re.split(r\"\\s+\",test,3)"
   ]
  }
 ],
 "metadata": {
  "kernelspec": {
   "display_name": "Python 3",
   "language": "python",
   "name": "python3"
  },
  "language_info": {
   "codemirror_mode": {
    "name": "ipython",
    "version": 3
   },
   "file_extension": ".py",
   "mimetype": "text/x-python",
   "name": "python",
   "nbconvert_exporter": "python",
   "pygments_lexer": "ipython3",
   "version": "3.6.5"
  }
 },
 "nbformat": 4,
 "nbformat_minor": 2
}
